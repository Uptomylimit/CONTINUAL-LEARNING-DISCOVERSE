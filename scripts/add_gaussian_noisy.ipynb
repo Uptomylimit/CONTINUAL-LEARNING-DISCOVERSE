{
 "cells": [
  {
   "cell_type": "code",
   "execution_count": 1,
   "metadata": {},
   "outputs": [],
   "source": [
    "import os\n",
    "import cv2\n",
    "import shutil\n",
    "import mediapy\n",
    "import numpy as np\n",
    "from multiprocessing import Pool\n",
    "\n",
    "home_dir = \"\"\n",
    "\n",
    "mean = 0\n",
    "var = 0.3\n",
    "sigma = var ** 0.5\n",
    "new_dir = home_dir + f\"_GSN{var}\".replace(\".\", \"\")\n",
    "\n",
    "if os.path.exists(new_dir):\n",
    "    shutil.rmtree(new_dir)\n",
    "os.makedirs(new_dir)\n",
    "\n",
    "def randomize_gamma(imgs, gamma):\n",
    "    lookup_table = np.array([((i / 255) ** (1.0 / gamma)) * 255 for i in np.arange(256)]).astype(\"uint8\")\n",
    "    return cv2.LUT(imgs, lookup_table)\n",
    "\n",
    "def process_video(dirname, file):\n",
    "    v_path = os.path.join(home_dir, dirname, file)\n",
    "    new_v_path = os.path.join(new_dir, dirname, file)\n",
    "    if v_path.endswith(\".mp4\"):\n",
    "        video = mediapy.read_video(v_path)\n",
    "        new_video = cv2.add(video, np.random.normal(mean, sigma, video.shape).astype('uint8'))\n",
    "        new_video = randomize_gamma(new_video, np.random.uniform(0.5, 1.5))\n",
    "        mediapy.write_video(new_v_path, new_video, fps=video.metadata.fps)\n",
    "    elif v_path.endswith(\".json\"):\n",
    "        shutil.copy(v_path, new_v_path)\n",
    "\n",
    "def process_directory(dirname):\n",
    "    if not os.path.isdir(os.path.join(home_dir, dirname)):\n",
    "        shutil.copy(os.path.join(home_dir, dirname), os.path.join(new_dir, dirname))\n",
    "        return\n",
    "    new_subdir = os.path.join(new_dir, dirname)\n",
    "    if not os.path.exists(new_subdir):\n",
    "        os.mkdir(new_subdir)\n",
    "\n",
    "    for file in sorted(os.listdir(os.path.join(home_dir, dirname))):\n",
    "        process_video(dirname, file)\n",
    "\n",
    "directories = sorted(os.listdir(home_dir))\n",
    "pool = Pool(processes=16)\n",
    "pool.map(process_directory, directories)\n",
    "pool.close()\n",
    "pool.join()\n"
   ]
  }
 ],
 "metadata": {
  "kernelspec": {
   "display_name": "renderer",
   "language": "python",
   "name": "python3"
  },
  "language_info": {
   "codemirror_mode": {
    "name": "ipython",
    "version": 3
   },
   "file_extension": ".py",
   "mimetype": "text/x-python",
   "name": "python",
   "nbconvert_exporter": "python",
   "pygments_lexer": "ipython3",
   "version": "3.8.0"
  }
 },
 "nbformat": 4,
 "nbformat_minor": 2
}
