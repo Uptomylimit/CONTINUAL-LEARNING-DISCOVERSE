{
 "cells": [
  {
   "cell_type": "code",
   "execution_count": null,
   "metadata": {},
   "outputs": [],
   "source": [
    "import os\n",
    "import shutil\n",
    "# import imit_diffusion_policy\n",
    "# imit_diff_path = os.path.dirname(imit_diffusion_policy.__path__[0])\n",
    "\n",
    "imit_diff_path = \"\"\n",
    "\n",
    "for data_dir in sorted(os.listdir(os.path.join(imit_diff_path, \"data_raw\"))):\n",
    "    raw_dataset_path = os.path.join(imit_diff_path, \"data_raw\", data_dir)\n",
    "    zarr_src_path = os.path.join(imit_diff_path, \"data_raw_zarr\", os.path.basename(raw_dataset_path)+\".zarr\")\n",
    "    zarr_dst_path = os.path.join(imit_diff_path, \"data/tasks\", os.path.basename(raw_dataset_path)+\"_orin\")\n",
    "    zarr_file_dir = os.path.join(zarr_dst_path, os.path.basename(raw_dataset_path)+\"_orin.zarr.zip\")\n",
    "\n",
    "    if os.path.exists(zarr_dst_path):\n",
    "        shutil.rmtree(zarr_dst_path)\n",
    "    os.mkdir(zarr_dst_path)\n",
    "\n",
    "    if os.path.exists(zarr_dst_path):\n",
    "        cmd_str = f\"zip -r {zarr_file_dir} {zarr_src_path}\"\n",
    "        print(cmd_str)\n",
    "        os.system(cmd_str)\n",
    "    else:\n",
    "        print(f\"no path: {zarr_dst_path}\")\n"
   ]
  }
 ],
 "metadata": {
  "language_info": {
   "name": "python"
  }
 },
 "nbformat": 4,
 "nbformat_minor": 2
}
