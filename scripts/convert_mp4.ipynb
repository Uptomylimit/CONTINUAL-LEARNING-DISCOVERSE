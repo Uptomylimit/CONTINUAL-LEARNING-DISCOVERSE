{
 "cells": [
  {
   "cell_type": "code",
   "execution_count": null,
   "metadata": {},
   "outputs": [],
   "source": [
    "import os\n",
    "import cv2\n",
    "import tqdm\n",
    "import mediapy\n",
    "import numpy as np\n",
    "\n",
    "from discoverse import DISCOVERSE_ROOT_DIR\n",
    "\n",
    "video_dir = os.path.join(DISCOVERSE_ROOT_DIR, \"data/plate_coffeecup_white\")"
   ]
  },
  {
   "cell_type": "code",
   "execution_count": null,
   "metadata": {},
   "outputs": [],
   "source": [
    "arm_videos = []\n",
    "global_videos = []\n",
    "\n",
    "listdir = sorted(os.listdir(video_dir))\n",
    "for i, forder in tqdm.tqdm(enumerate(listdir)):\n",
    "    if i >= 25:\n",
    "        break\n",
    "    # c1_dir = os.path.join(video_dir, forder, \"arm_video.mp4\")\n",
    "    # v1 = mediapy.read_video(c1_dir)\n",
    "    # arm_videos.append(v1)\n",
    "    c2_dir = os.path.join(video_dir, forder, \"global_video.mp4\")\n",
    "    v2 = mediapy.read_video(c2_dir)\n",
    "    global_videos.append(v2)"
   ]
  },
  {
   "cell_type": "code",
   "execution_count": null,
   "metadata": {},
   "outputs": [],
   "source": [
    "h_or_v = None\n",
    "\n",
    "# output_size = (2560, 1440)\n",
    "# output_size = (1440, 1920)\n",
    "output_size = [1600, 1200]\n",
    "\n",
    "img_rows = 5\n",
    "img_cols = 5\n",
    "\n",
    "ori_img_size = global_videos[0].shape[1:3]\n",
    "\n",
    "if h_or_v == \"h\":\n",
    "    ori_bg_img = np.zeros((img_rows*ori_img_size[0], img_cols*2*ori_img_size[1], 3), dtype=np.uint8)\n",
    "    output_size[0] *= 2\n",
    "elif h_or_v == \"v\":\n",
    "    ori_bg_img = np.zeros((img_rows*2*ori_img_size[0], img_cols*ori_img_size[1], 3), dtype=np.uint8)\n",
    "    output_size[1] *= 2\n",
    "else:\n",
    "    ori_bg_img = np.zeros((img_rows*ori_img_size[0], img_cols*ori_img_size[1], 3), dtype=np.uint8)\n",
    "\n",
    "frame_total_min = 1e6\n",
    "\n",
    "for img in arm_videos:\n",
    "    frame_total_min = min(frame_total_min, len(img))\n",
    "for img in global_videos:\n",
    "    frame_total_min = min(frame_total_min, len(img))\n",
    "\n",
    "big_video = []\n",
    "for frame_idx in tqdm.trange(frame_total_min):\n",
    "    for i in range(img_rows*img_cols):\n",
    "        if i >= img_rows * img_cols:\n",
    "            break\n",
    "        row = i // img_cols\n",
    "        col = i % img_cols\n",
    "        if i < len(arm_videos):\n",
    "            img_1 = arm_videos[i][frame_idx]\n",
    "        img_2 = global_videos[i][frame_idx]\n",
    "        if h_or_v == \"h\":\n",
    "            ori_bg_img[row*ori_img_size[0]:(row+1)*ori_img_size[0], col*2*ori_img_size[1]:(col*2+1) * ori_img_size[1]] = img_1\n",
    "            ori_bg_img[row*ori_img_size[0]:(row+1)*ori_img_size[0], (col*2+1)*ori_img_size[1]:(col*2+2) * ori_img_size[1]] = img_2\n",
    "        elif h_or_v == \"v\":\n",
    "            ori_bg_img[row*2*ori_img_size[0]:(row*2+1)*ori_img_size[0], col*ori_img_size[1]:(col+1)*ori_img_size[1]] = img_1\n",
    "            ori_bg_img[(row*2+1)*ori_img_size[0]:(row*2+2)*ori_img_size[0], col*ori_img_size[1]:(col+1)*ori_img_size[1]] = img_2\n",
    "        else:\n",
    "            ori_bg_img[row*ori_img_size[0]:(row+1)*ori_img_size[0], col*ori_img_size[1]:(col+1)*ori_img_size[1]] = img_2\n",
    "        # cv2.imshow(\"img\", ori_bg_img)\n",
    "        # key = cv2.waitKey(1)\n",
    "        # if key == ord(\"q\"):\n",
    "        #     break\n",
    "    big_img = cv2.resize(ori_bg_img, output_size, interpolation=cv2.INTER_LINEAR)\n",
    "    big_video.append(big_img)\n",
    "mediapy.write_video(\"big_video.mp4\", big_video, fps=30)"
   ]
  },
  {
   "cell_type": "code",
   "execution_count": 4,
   "metadata": {},
   "outputs": [],
   "source": [
    "bgr_img = cv2.cvtColor(ori_bg_img, cv2.COLOR_RGB2BGR)\n",
    "cv2.imshow(\"img\", bgr_img)\n",
    "cv2.waitKey(0)\n",
    "cv2.destroyAllWindows()"
   ]
  }
 ],
 "metadata": {
  "kernelspec": {
   "display_name": "renderer",
   "language": "python",
   "name": "python3"
  },
  "language_info": {
   "codemirror_mode": {
    "name": "ipython",
    "version": 3
   },
   "file_extension": ".py",
   "mimetype": "text/x-python",
   "name": "python",
   "nbconvert_exporter": "python",
   "pygments_lexer": "ipython3",
   "version": "3.8.0"
  }
 },
 "nbformat": 4,
 "nbformat_minor": 2
}
